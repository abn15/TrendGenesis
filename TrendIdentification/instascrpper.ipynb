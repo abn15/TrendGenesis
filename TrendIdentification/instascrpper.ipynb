{
  "nbformat": 4,
  "nbformat_minor": 0,
  "metadata": {
    "colab": {
      "provenance": []
    },
    "kernelspec": {
      "name": "python3",
      "display_name": "Python 3"
    },
    "language_info": {
      "name": "python"
    }
  },
  "cells": [
    {
      "cell_type": "code",
      "execution_count": 7,
      "metadata": {
        "colab": {
          "base_uri": "https://localhost:8080/"
        },
        "id": "wWmwTUgBRHoA",
        "outputId": "11417f8a-eafd-4155-af0e-245d4ccd9ba8"
      },
      "outputs": [
        {
          "output_type": "stream",
          "name": "stdout",
          "text": [
            "Requirement already satisfied: instaloader in /usr/local/lib/python3.10/dist-packages (4.12)\n",
            "Requirement already satisfied: requests>=2.4 in /usr/local/lib/python3.10/dist-packages (from instaloader) (2.31.0)\n",
            "Requirement already satisfied: charset-normalizer<4,>=2 in /usr/local/lib/python3.10/dist-packages (from requests>=2.4->instaloader) (3.3.2)\n",
            "Requirement already satisfied: idna<4,>=2.5 in /usr/local/lib/python3.10/dist-packages (from requests>=2.4->instaloader) (3.7)\n",
            "Requirement already satisfied: urllib3<3,>=1.21.1 in /usr/local/lib/python3.10/dist-packages (from requests>=2.4->instaloader) (2.0.7)\n",
            "Requirement already satisfied: certifi>=2017.4.17 in /usr/local/lib/python3.10/dist-packages (from requests>=2.4->instaloader) (2024.7.4)\n"
          ]
        }
      ],
      "source": [
        "!pip install instaloader"
      ]
    },
    {
      "cell_type": "code",
      "source": [
        "import instaloader\n",
        "import os\n",
        "import csv\n",
        "\n",
        "# Initialize Instaloader\n",
        "L = instaloader.Instaloader()\n",
        "\n",
        "# Login (optional, but recommended for accessing private profiles or more data)\n",
        "# L.login('YOUR_USERNAME', 'YOUR_PASSWORD')  # Uncomment and replace YOUR_USERNAME and YOUR_PASSWORD\n",
        "\n",
        "# Define the profile to scrape\n",
        "profile_name = 'zara'  # Replace with the target profile's username\n",
        "profile = instaloader.Profile.from_username(L.context, profile_name)\n",
        "\n",
        "# Create a directory to store downloaded images\n",
        "os.makedirs(profile_name, exist_ok=True)\n",
        "\n",
        "# Define the number of posts to limit\n",
        "limit = 7\n",
        "count = 0\n",
        "\n",
        "# Open a CSV file to write image URLs and likes\n",
        "with open(f'{profile_name}_posts.csv', 'w', newline='', encoding='utf-8') as csvfile:\n",
        "    fieldnames = ['Post Shortcode', 'Image URL', 'Likes']\n",
        "    writer = csv.DictWriter(csvfile, fieldnames=fieldnames)\n",
        "\n",
        "    writer.writeheader()\n",
        "\n",
        "    # Loop through the posts\n",
        "    for post in profile.get_posts():\n",
        "        if count >= limit:\n",
        "            break\n",
        "\n",
        "        # Download the image\n",
        "        L.download_post(post, target=profile_name)\n",
        "\n",
        "        # Get the number of likes for the post\n",
        "        num_likes = post.likes\n",
        "        image_url = post.url\n",
        "\n",
        "        # Write data to CSV\n",
        "        writer.writerow({'Post Shortcode': post.shortcode, 'Image URL': image_url, 'Likes': num_likes})\n",
        "\n",
        "        # Print the number of likes\n",
        "        print(f'Post {post.shortcode} has {num_likes} likes.')\n",
        "\n",
        "        count += 1\n",
        "\n",
        "print(\"Scraping completed and data saved to CSV!\")\n"
      ],
      "metadata": {
        "colab": {
          "base_uri": "https://localhost:8080/"
        },
        "id": "zL3N_H91RKNa",
        "outputId": "24dbc95b-6715-4275-a845-90d5cba8b738"
      },
      "execution_count": 2,
      "outputs": [
        {
          "output_type": "stream",
          "name": "stdout",
          "text": [
            "zara/2024-07-12_07-33-13_UTC_1.jpg zara/2024-07-12_07-33-13_UTC_2.jpg zara/2024-07-12_07-33-13_UTC_3.jpg zara/2024-07-12_07-33-13_UTC_4.jpg zara/2024-07-12_07-33-13_UTC_5.jpg [Details matter #zarawoman #za…] json \n",
            "Post C9UHxUEOTtW has 20241 likes.\n",
            "zara/2024-07-11_13-32-10_UTC_1.jpg zara/2024-07-11_13-32-10_UTC_2.jpg zara/2024-07-11_13-32-10_UTC_3.jpg zara/2024-07-11_13-32-10_UTC_4.jpg zara/2024-07-11_13-32-10_UTC_5.jpg [The Total Look edit #zarawoma…] json \n",
            "Post C9SMDa1qOu7 has 68353 likes.\n",
            "zara/2024-07-11_08-48-27_UTC.jpg [ZARA ORIGINS ‘Sogno de una no…] zara/2024-07-11_08-48-27_UTC.mp4 json \n",
            "Post C9RrecLtzeh has 14843 likes.\n",
            "zara/2024-07-10_08-01-24_UTC.jpg [Dive into vacation mode #zara…] zara/2024-07-10_08-01-24_UTC.mp4 json \n",
            "Post C9PBWsOOs9h has 11372 likes.\n",
            "zara/2024-07-09_09-02-03_UTC_1.jpg zara/2024-07-09_09-02-03_UTC_2.jpg zara/2024-07-09_09-02-03_UTC_3.jpg zara/2024-07-09_09-02-03_UTC_4.jpg zara/2024-07-09_09-02-03_UTC_5.jpg [A summery touch #zarawoman #z…] json \n",
            "Post C9MjjRGuOCm has 66420 likes.\n",
            "zara/2024-07-08_09-37-46_UTC_1.jpg zara/2024-07-08_09-37-46_UTC_2.jpg zara/2024-07-08_09-37-46_UTC_3.jpg zara/2024-07-08_09-37-46_UTC_4.jpg zara/2024-07-08_09-37-46_UTC_5.jpg [ZW Collection. The latest in …] json \n",
            "Post C9KC2COOIP6 has 47550 likes.\n",
            "zara/2024-07-04_15-10-24_UTC_1.jpg zara/2024-07-04_15-10-24_UTC_2.jpg zara/2024-07-04_15-10-24_UTC_3.jpg zara/2024-07-04_15-10-24_UTC_4.jpg zara/2024-07-04_15-10-24_UTC_5.jpg [Summer breeze #zarawoman #zara] json \n",
            "Post C9AVu0pKQng has 37868 likes.\n",
            "Scraping completed and data saved to CSV!\n"
          ]
        }
      ]
    },
    {
      "cell_type": "code",
      "source": [
        "import instaloader\n",
        "import os\n",
        "import csv\n",
        "\n",
        "# Initialize Instaloader\n",
        "L = instaloader.Instaloader()\n",
        "\n",
        "# Login (optional, but recommended for accessing private profiles or more data)\n",
        "# L.login('YOUR_USERNAME', 'YOUR_PASSWORD')  # Uncomment and replace YOUR_USERNAME and YOUR_PASSWORD\n",
        "\n",
        "# Define the profile to scrape\n",
        "profile_name = 'urbanic_in'  # Replace with the target profile's username\n",
        "profile = instaloader.Profile.from_username(L.context, profile_name)\n",
        "\n",
        "# Create a directory to store downloaded images\n",
        "os.makedirs(profile_name, exist_ok=True)\n",
        "\n",
        "# Define the number of posts to limit\n",
        "limit = 7\n",
        "count = 0\n",
        "\n",
        "# Open a CSV file to write image URLs and likes\n",
        "with open(f'{profile_name}_posts.csv', 'w', newline='', encoding='utf-8') as csvfile:\n",
        "    fieldnames = ['Post Shortcode', 'Image URL', 'Likes']\n",
        "    writer = csv.DictWriter(csvfile, fieldnames=fieldnames)\n",
        "\n",
        "    writer.writeheader()\n",
        "\n",
        "    # Loop through the posts\n",
        "    for post in profile.get_posts():\n",
        "        if count >= limit:\n",
        "            break\n",
        "\n",
        "        # Download the image\n",
        "        L.download_post(post, target=profile_name)\n",
        "\n",
        "        # Get the number of likes for the post\n",
        "        num_likes = post.likes\n",
        "        image_url = post.url\n",
        "\n",
        "        # Write data to CSV\n",
        "        writer.writerow({'Post Shortcode': post.shortcode, 'Image URL': image_url, 'Likes': num_likes})\n",
        "\n",
        "        # Print the number of likes\n",
        "        print(f'Post {post.shortcode} has {num_likes} likes.')\n",
        "\n",
        "        count += 1\n",
        "\n",
        "print(\"Scraping completed and data saved to CSV!\")"
      ],
      "metadata": {
        "colab": {
          "base_uri": "https://localhost:8080/"
        },
        "id": "lSkhV-m6R8q0",
        "outputId": "f8179735-eeb2-4bf8-adf9-cba0647d5830"
      },
      "execution_count": 3,
      "outputs": [
        {
          "output_type": "stream",
          "name": "stdout",
          "text": [
            "urbanic_in/2024-06-22_12-44-40_UTC_1.jpg urbanic_in/2024-06-22_12-44-40_UTC_2.jpg urbanic_in/2024-06-22_12-44-40_UTC_3.jpg urbanic_in/2024-06-22_12-44-40_UTC_4.jpg urbanic_in/2024-06-22_12-44-40_UTC_5.jpg urbanic_in/2024-06-22_12-44-40_UTC_6.jpg urbanic_in/2024-06-22_12-44-40_UTC_7.jpg urbanic_in/2024-06-22_12-44-40_UTC_8.jpg urbanic_in/2024-06-22_12-44-40_UTC_9.jpg [Our hearts are melting with t…] json \n",
            "Post C8hLg7pypmz has 2165 likes.\n",
            "urbanic_in/2024-06-20_13-05-46_UTC_1.jpg urbanic_in/2024-06-20_13-05-46_UTC_2.jpg urbanic_in/2024-06-20_13-05-46_UTC_3.jpg urbanic_in/2024-06-20_13-05-46_UTC_4.jpg urbanic_in/2024-06-20_13-05-46_UTC_5.jpg [They came. They conquered. Mo…] json \n",
            "Post C8cEVtRSoMH has 3901 likes.\n",
            "urbanic_in/2024-06-19_15-48-58_UTC_1.jpg urbanic_in/2024-06-19_15-48-58_UTC_2.jpg urbanic_in/2024-06-19_15-48-58_UTC_3.jpg urbanic_in/2024-06-19_15-48-58_UTC_4.jpg [#UrbanicSquad turned up the g…] json \n",
            "Post C8ZyOIjyZ2X has 16054 likes.\n",
            "urbanic_in/2024-06-19_12-11-20_UTC_1.jpg urbanic_in/2024-06-19_12-11-20_UTC_2.jpg urbanic_in/2024-06-19_12-11-20_UTC_3.jpg urbanic_in/2024-06-19_12-11-20_UTC_4.jpg urbanic_in/2024-06-19_12-11-20_UTC_5.jpg [We’re taking over your feed w…] json \n",
            "Post C8ZZUHmysWy has 2731 likes.\n",
            "urbanic_in/2024-06-18_16-10-36_UTC.jpg [A starry evening to remember.…] urbanic_in/2024-06-18_16-10-36_UTC.mp4 json \n",
            "Post C8XMlDkyTJH has 9054 likes.\n",
            "urbanic_in/2024-06-18_13-29-24_UTC_1.jpg urbanic_in/2024-06-18_13-29-24_UTC_2.jpg urbanic_in/2024-06-18_13-29-24_UTC_3.jpg urbanic_in/2024-06-18_13-29-24_UTC_4.jpg urbanic_in/2024-06-18_13-29-24_UTC_5.jpg urbanic_in/2024-06-18_13-29-24_UTC_6.jpg urbanic_in/2024-06-18_13-29-24_UTC_7.jpg urbanic_in/2024-06-18_13-29-24_UTC_8.jpg [Our guests are all smiles as …] json \n",
            "Post C8W9dBmSHad has 1869 likes.\n",
            "urbanic_in/2024-06-12_13-37-19_UTC_1.jpg urbanic_in/2024-06-12_13-37-19_UTC_2.jpg urbanic_in/2024-06-12_13-37-19_UTC_3.jpg urbanic_in/2024-06-12_13-37-19_UTC_4.jpg urbanic_in/2024-06-12_13-37-19_UTC_5.jpg urbanic_in/2024-06-12_13-37-19_UTC_6.jpg urbanic_in/2024-06-12_13-37-19_UTC_7.jpg urbanic_in/2024-06-12_13-37-19_UTC_8.jpg [Swipe for fun bits from our S…] json \n",
            "Post C8Hhl0cyoxO has 5576 likes.\n",
            "Scraping completed and data saved to CSV!\n"
          ]
        }
      ]
    },
    {
      "cell_type": "code",
      "source": [
        "import instaloader\n",
        "import os\n",
        "import csv\n",
        "\n",
        "# Initialize Instaloader\n",
        "L = instaloader.Instaloader()\n",
        "\n",
        "# Login (optional, but recommended for accessing private profiles or more data)\n",
        "# L.login('YOUR_USERNAME', 'YOUR_PASSWORD')  # Uncomment and replace YOUR_USERNAME and YOUR_PASSWORD\n",
        "\n",
        "# Define the profile to scrape\n",
        "profile_name = 'styledbyitsurgift'  # Replace with the target profile's username\n",
        "profile = instaloader.Profile.from_username(L.context, profile_name)\n",
        "\n",
        "# Create a directory to store downloaded images\n",
        "os.makedirs(profile_name, exist_ok=True)\n",
        "\n",
        "# Define the number of posts to limit\n",
        "limit = 7\n",
        "count = 0\n",
        "\n",
        "# Open a CSV file to write image URLs and likes\n",
        "with open(f'{profile_name}_posts.csv', 'w', newline='', encoding='utf-8') as csvfile:\n",
        "    fieldnames = ['Post Shortcode', 'Image URL', 'Likes']\n",
        "    writer = csv.DictWriter(csvfile, fieldnames=fieldnames)\n",
        "\n",
        "    writer.writeheader()\n",
        "\n",
        "    # Loop through the posts\n",
        "    for post in profile.get_posts():\n",
        "        if count >= limit:\n",
        "            break\n",
        "\n",
        "        # Download the image\n",
        "        L.download_post(post, target=profile_name)\n",
        "\n",
        "        # Get the number of likes for the post\n",
        "        num_likes = post.likes\n",
        "        image_url = post.url\n",
        "\n",
        "        # Write data to CSV\n",
        "        writer.writerow({'Post Shortcode': post.shortcode, 'Image URL': image_url, 'Likes': num_likes})\n",
        "\n",
        "        # Print the number of likes\n",
        "        print(f'Post {post.shortcode} has {num_likes} likes.')\n",
        "\n",
        "        count += 1\n",
        "\n",
        "print(\"Scraping completed and data saved to CSV!\")"
      ],
      "metadata": {
        "colab": {
          "base_uri": "https://localhost:8080/"
        },
        "id": "3lJ35lRFSLG_",
        "outputId": "f17e3c7f-7098-4cb5-9141-f71050761bd3"
      },
      "execution_count": 4,
      "outputs": [
        {
          "output_type": "stream",
          "name": "stdout",
          "text": [
            "styledbyitsurgift/2024-06-21_14-59-04_UTC.jpg [🍦🍨 Follow @styledbyitsurgift …] json \n",
            "Post C8e2GYRSWqa has 7596 likes.\n",
            "styledbyitsurgift/2024-03-18_06-21-27_UTC.jpg [💚🩷 Follow @styledbyitsurgift …] json \n",
            "Post C4pTWHJSDQZ has 58913 likes.\n",
            "styledbyitsurgift/2024-03-23_15-59-28_UTC.jpg [🪸🫧 Follow @styledbyitsurgift …] json \n",
            "Post C43Nd__S1Km has 14886 likes.\n",
            "styledbyitsurgift/2024-07-13_15-54-42_UTC.jpg [💛 Follow @styledbyitsurgift f…] json \n",
            "Post C9Xl9EUyJq8 has 90 likes.\n",
            "styledbyitsurgift/2024-07-09_15-05-10_UTC.jpg [◽️ Follow @styledbyitsurgift …] json \n",
            "Post C9NNG2qyWwh has 369 likes.\n",
            "styledbyitsurgift/2024-07-08_17-31-15_UTC.jpg [🌿 Follow @styledbyitsurgift f…] json \n",
            "Post C9K5B6kygVO has 144 likes.\n",
            "styledbyitsurgift/2024-07-05_10-38-39_UTC.jpg [🩱 Follow @styledbyitsurgift f…] json \n",
            "Post C9CbbSMyrUn has 2176 likes.\n",
            "Scraping completed and data saved to CSV!\n"
          ]
        }
      ]
    },
    {
      "cell_type": "code",
      "source": [
        "import instaloader\n",
        "import os\n",
        "import csv\n",
        "\n",
        "# Initialize Instaloader\n",
        "L = instaloader.Instaloader()\n",
        "\n",
        "# Login (optional, but recommended for accessing private profiles or more data)\n",
        "# L.login('YOUR_USERNAME', 'YOUR_PASSWORD')  # Uncomment and replace YOUR_USERNAME and YOUR_PASSWORD\n",
        "\n",
        "# Define the profile to scrape\n",
        "profile_name = 'closet.hues'  # Replace with the target profile's username\n",
        "profile = instaloader.Profile.from_username(L.context, profile_name)\n",
        "\n",
        "# Create a directory to store downloaded images\n",
        "os.makedirs(profile_name, exist_ok=True)\n",
        "\n",
        "# Define the number of posts to limit\n",
        "limit = 7\n",
        "count = 0\n",
        "\n",
        "# Open a CSV file to write image URLs and likes\n",
        "with open(f'{profile_name}_posts.csv', 'w', newline='', encoding='utf-8') as csvfile:\n",
        "    fieldnames = ['Post Shortcode', 'Image URL', 'Likes']\n",
        "    writer = csv.DictWriter(csvfile, fieldnames=fieldnames)\n",
        "\n",
        "    writer.writeheader()\n",
        "\n",
        "    # Loop through the posts\n",
        "    for post in profile.get_posts():\n",
        "        if count >= limit:\n",
        "            break\n",
        "\n",
        "        # Download the image\n",
        "        L.download_post(post, target=profile_name)\n",
        "\n",
        "        # Get the number of likes for the post\n",
        "        num_likes = post.likes\n",
        "        image_url = post.url\n",
        "\n",
        "        # Write data to CSV\n",
        "        writer.writerow({'Post Shortcode': post.shortcode, 'Image URL': image_url, 'Likes': num_likes})\n",
        "\n",
        "        # Print the number of likes\n",
        "        print(f'Post {post.shortcode} has {num_likes} likes.')\n",
        "\n",
        "        count += 1\n",
        "\n",
        "print(\"Scraping completed and data saved to CSV!\")"
      ],
      "metadata": {
        "colab": {
          "base_uri": "https://localhost:8080/"
        },
        "id": "5f17zD7rSQbW",
        "outputId": "c0c2d23e-e4be-476d-bc6d-62de3e41d629"
      },
      "execution_count": 5,
      "outputs": [
        {
          "output_type": "stream",
          "name": "stdout",
          "text": [
            "closet.hues/2024-07-04_06-53-39_UTC.jpg [Costa crochet coord set 🌸 COD…] closet.hues/2024-07-04_06-53-39_UTC.mp4 json \n",
            "Post C8_csGGK8Sk has 12633 likes.\n",
            "closet.hues/2024-06-12_11-22-48_UTC.jpg [Starfish One shoulder dress 🌸…] closet.hues/2024-06-12_11-22-48_UTC.mp4 json \n",
            "Post C8HSCi_KPNO has 1967 likes.\n",
            "closet.hues/2024-07-14_16-17-39_UTC.jpg [Jonah Dress 🌸 COD AVAILABLE  …] closet.hues/2024-07-14_16-17-39_UTC.mp4 json \n",
            "Post C9aKj7GN-Jg has 182 likes.\n",
            "closet.hues/2024-07-14_08-25-50_UTC.jpg [Birdie Padded Top 🌸 COD AVAIL…] closet.hues/2024-07-14_08-25-50_UTC.mp4 json \n",
            "Post C9ZW3gcKQEe has 2094 likes.\n",
            "closet.hues/2024-07-14_03-01-27_UTC.jpg [🫶🏻] json \n",
            "Post C9YyQkaIk_g has 3285 likes.\n",
            "closet.hues/2024-07-13_16-21-28_UTC.jpg [Hamley Coords Set Savannah Co…] closet.hues/2024-07-13_16-21-28_UTC.mp4 json \n",
            "Post C9Xo1GCKjdk has 807 likes.\n",
            "closet.hues/2024-07-13_12-00-05_UTC_1.jpg closet.hues/2024-07-13_12-00-05_UTC_2.jpg closet.hues/2024-07-13_12-00-05_UTC_3.jpg closet.hues/2024-07-13_12-00-05_UTC_4.jpg closet.hues/2024-07-13_12-00-05_UTC_5.jpg closet.hues/2024-07-13_12-00-05_UTC_6.jpg [Harper Knit Dress 🌸 COD AVAIL…] json \n",
            "Post C9XLGugKdOP has 522 likes.\n",
            "Scraping completed and data saved to CSV!\n"
          ]
        }
      ]
    }
  ]
}