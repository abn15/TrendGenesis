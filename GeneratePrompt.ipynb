{
  "nbformat": 4,
  "nbformat_minor": 0,
  "metadata": {
    "colab": {
      "private_outputs": true,
      "provenance": [],
      "gpuType": "T4"
    },
    "kernelspec": {
      "name": "python3",
      "display_name": "Python 3"
    },
    "language_info": {
      "name": "python"
    },
    "accelerator": "GPU"
  },
  "cells": [
    {
      "cell_type": "code",
      "source": [
        "%pip install --quiet --upgrade diffusers transformers accelerate mediapy"
      ],
      "metadata": {
        "id": "ufD_d64nr08H"
      },
      "execution_count": null,
      "outputs": []
    },
    {
      "cell_type": "code",
      "source": [
        "import mediapy as media\n",
        "import random\n",
        "import sys\n",
        "import torch\n",
        "\n",
        "from diffusers import AutoPipelineForText2Image\n",
        "\n",
        "pipe = AutoPipelineForText2Image.from_pretrained(\n",
        "    \"stabilityai/sdxl-turbo\",\n",
        "    torch_dtype=torch.float16,\n",
        "    use_safetensors=True,\n",
        "    variant=\"fp16\",\n",
        "    )\n",
        "\n",
        "pipe = pipe.to(\"cuda\")"
      ],
      "metadata": {
        "id": "bG2hkmSEvByV"
      },
      "execution_count": null,
      "outputs": []
    },
    {
      "cell_type": "code",
      "source": [
        "import random\n",
        "import sys\n",
        "import torch\n",
        "from PIL import Image\n",
        "import matplotlib.pyplot as plt\n",
        "\n",
        "# Request information from the user\n",
        "topwear = input(\"Enter the type of topwear you want (e.g., shirt, blouse, jacket): \")  # example: \"shirt white, man\"\n",
        "bottomwear = input(\"Enter the type of bottomwear you want (e.g., pants, skirt, shorts): \")  # example: \"jeans\"\n",
        "accessories = input(\"Would you like to add any accessories? If so, which ones? \")  # nothing and enter\n",
        "\n",
        "# Create the prompt based on user preferences\n",
        "prompt = f\"Generate a unique and spectacular fashion design. The topwear should be a {topwear}, the bottomwear should be {bottomwear}, and include accessories like {accessories}. The design must be photorealistic, with cinematic lighting and hyper-realistic details. Use a cinematic composition, focusing on innovation and technology. Add high-tech elements, such as a nanotechnology helmet and cutting-edge jewelry. The model should look elegant and dynamic, with an impactful pose and captivating facial expression. This stunning image is rendered in insanely high resolution, realistic, HD, HDR, XDR, focus + sharpen + wide-angle 8K resolution + Adobe Lightroom + rule-of-thirds --ar 9:16\"\n",
        "\n",
        "# Generate the fashion design\n",
        "seed = random.randint(0, sys.maxsize)\n",
        "num_inference_steps = 4\n",
        "\n",
        "# Replace 'pipe' with the appropriate method for your image generation pipeline\n",
        "images = pipe(\n",
        "    prompt=prompt,\n",
        "    guidance_scale=0.0,\n",
        "    num_inference_steps=num_inference_steps,\n",
        "    generator=torch.Generator(\"cuda\").manual_seed(seed),\n",
        ").images\n",
        "\n",
        "# Display the generated design\n",
        "print(f\"Prompt:\\t{prompt}\\nSeed:\\t{seed}\")\n",
        "\n",
        "# Function to display images\n",
        "def show_images(images):\n",
        "    for i, img in enumerate(images):\n",
        "        plt.figure(figsize=(10, 10))\n",
        "        plt.imshow(img)\n",
        "        plt.axis('off')\n",
        "        plt.show()\n",
        "\n",
        "show_images(images)\n",
        "\n",
        "# Save the first image\n",
        "images[0].save(\"output.jpg\")\n"
      ],
      "metadata": {
        "id": "FsUVJZvSjQej"
      },
      "execution_count": null,
      "outputs": []
    }
  ]
}